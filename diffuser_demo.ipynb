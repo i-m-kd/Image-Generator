{
 "cells": [
  {
   "cell_type": "code",
   "execution_count": 5,
   "metadata": {},
   "outputs": [
    {
     "ename": "ImportError",
     "evalue": "cannot import name 'is_peft_available' from 'diffusers.utils.import_utils' (d:\\Python Files\\Python\\Image Generation From Text\\Stable Diffusion Demo\\.venv\\Lib\\site-packages\\diffusers\\utils\\import_utils.py)",
     "output_type": "error",
     "traceback": [
      "\u001b[1;31m---------------------------------------------------------------------------\u001b[0m",
      "\u001b[1;31mImportError\u001b[0m                               Traceback (most recent call last)",
      "Cell \u001b[1;32mIn[5], line 1\u001b[0m\n\u001b[1;32m----> 1\u001b[0m \u001b[38;5;28;01mfrom\u001b[39;00m \u001b[38;5;21;01mdiffusers\u001b[39;00m \u001b[38;5;28;01mimport\u001b[39;00m StableDiffusionPipeline\n",
      "File \u001b[1;32md:\\Python Files\\Python\\Image Generation From Text\\Stable Diffusion Demo\\.venv\\Lib\\site-packages\\diffusers\\__init__.py:5\u001b[0m\n\u001b[0;32m      1\u001b[0m __version__ \u001b[38;5;241m=\u001b[39m \u001b[38;5;124m\"\u001b[39m\u001b[38;5;124m0.25.1\u001b[39m\u001b[38;5;124m\"\u001b[39m\n\u001b[0;32m      3\u001b[0m \u001b[38;5;28;01mfrom\u001b[39;00m \u001b[38;5;21;01mtyping\u001b[39;00m \u001b[38;5;28;01mimport\u001b[39;00m TYPE_CHECKING\n\u001b[1;32m----> 5\u001b[0m \u001b[38;5;28;01mfrom\u001b[39;00m \u001b[38;5;21;01m.\u001b[39;00m\u001b[38;5;21;01mutils\u001b[39;00m \u001b[38;5;28;01mimport\u001b[39;00m (\n\u001b[0;32m      6\u001b[0m     DIFFUSERS_SLOW_IMPORT,\n\u001b[0;32m      7\u001b[0m     OptionalDependencyNotAvailable,\n\u001b[0;32m      8\u001b[0m     _LazyModule,\n\u001b[0;32m      9\u001b[0m     is_flax_available,\n\u001b[0;32m     10\u001b[0m     is_k_diffusion_available,\n\u001b[0;32m     11\u001b[0m     is_librosa_available,\n\u001b[0;32m     12\u001b[0m     is_note_seq_available,\n\u001b[0;32m     13\u001b[0m     is_onnx_available,\n\u001b[0;32m     14\u001b[0m     is_scipy_available,\n\u001b[0;32m     15\u001b[0m     is_torch_available,\n\u001b[0;32m     16\u001b[0m     is_torchsde_available,\n\u001b[0;32m     17\u001b[0m     is_transformers_available,\n\u001b[0;32m     18\u001b[0m )\n\u001b[0;32m     21\u001b[0m \u001b[38;5;66;03m# Lazy Import based on\u001b[39;00m\n\u001b[0;32m     22\u001b[0m \u001b[38;5;66;03m# https://github.com/huggingface/transformers/blob/main/src/transformers/__init__.py\u001b[39;00m\n\u001b[0;32m     23\u001b[0m \n\u001b[0;32m     24\u001b[0m \u001b[38;5;66;03m# When adding a new object to this init, please add it to `_import_structure`. The `_import_structure` is a dictionary submodule to list of object names,\u001b[39;00m\n\u001b[0;32m     25\u001b[0m \u001b[38;5;66;03m# and is used to defer the actual importing for when the objects are requested.\u001b[39;00m\n\u001b[0;32m     26\u001b[0m \u001b[38;5;66;03m# This way `import diffusers` provides the names in the namespace without actually importing anything (and especially none of the backends).\u001b[39;00m\n\u001b[0;32m     28\u001b[0m _import_structure \u001b[38;5;241m=\u001b[39m {\n\u001b[0;32m     29\u001b[0m     \u001b[38;5;124m\"\u001b[39m\u001b[38;5;124mconfiguration_utils\u001b[39m\u001b[38;5;124m\"\u001b[39m: [\u001b[38;5;124m\"\u001b[39m\u001b[38;5;124mConfigMixin\u001b[39m\u001b[38;5;124m\"\u001b[39m],\n\u001b[0;32m     30\u001b[0m     \u001b[38;5;124m\"\u001b[39m\u001b[38;5;124mmodels\u001b[39m\u001b[38;5;124m\"\u001b[39m: [],\n\u001b[1;32m   (...)\u001b[0m\n\u001b[0;32m     50\u001b[0m     ],\n\u001b[0;32m     51\u001b[0m }\n",
      "File \u001b[1;32md:\\Python Files\\Python\\Image Generation From Text\\Stable Diffusion Demo\\.venv\\Lib\\site-packages\\diffusers\\utils\\__init__.py:21\u001b[0m\n\u001b[0;32m     18\u001b[0m \u001b[38;5;28;01mfrom\u001b[39;00m \u001b[38;5;21;01mpackaging\u001b[39;00m \u001b[38;5;28;01mimport\u001b[39;00m version\n\u001b[0;32m     20\u001b[0m \u001b[38;5;28;01mfrom\u001b[39;00m \u001b[38;5;21;01m.\u001b[39;00m\u001b[38;5;21;01m.\u001b[39;00m \u001b[38;5;28;01mimport\u001b[39;00m __version__\n\u001b[1;32m---> 21\u001b[0m \u001b[38;5;28;01mfrom\u001b[39;00m \u001b[38;5;21;01m.\u001b[39;00m\u001b[38;5;21;01mconstants\u001b[39;00m \u001b[38;5;28;01mimport\u001b[39;00m (\n\u001b[0;32m     22\u001b[0m     CONFIG_NAME,\n\u001b[0;32m     23\u001b[0m     DEPRECATED_REVISION_ARGS,\n\u001b[0;32m     24\u001b[0m     DIFFUSERS_DYNAMIC_MODULE_NAME,\n\u001b[0;32m     25\u001b[0m     FLAX_WEIGHTS_NAME,\n\u001b[0;32m     26\u001b[0m     HF_MODULES_CACHE,\n\u001b[0;32m     27\u001b[0m     HUGGINGFACE_CO_RESOLVE_ENDPOINT,\n\u001b[0;32m     28\u001b[0m     MIN_PEFT_VERSION,\n\u001b[0;32m     29\u001b[0m     ONNX_EXTERNAL_WEIGHTS_NAME,\n\u001b[0;32m     30\u001b[0m     ONNX_WEIGHTS_NAME,\n\u001b[0;32m     31\u001b[0m     SAFETENSORS_WEIGHTS_NAME,\n\u001b[0;32m     32\u001b[0m     USE_PEFT_BACKEND,\n\u001b[0;32m     33\u001b[0m     WEIGHTS_NAME,\n\u001b[0;32m     34\u001b[0m )\n\u001b[0;32m     35\u001b[0m \u001b[38;5;28;01mfrom\u001b[39;00m \u001b[38;5;21;01m.\u001b[39;00m\u001b[38;5;21;01mdeprecation_utils\u001b[39;00m \u001b[38;5;28;01mimport\u001b[39;00m deprecate\n\u001b[0;32m     36\u001b[0m \u001b[38;5;28;01mfrom\u001b[39;00m \u001b[38;5;21;01m.\u001b[39;00m\u001b[38;5;21;01mdoc_utils\u001b[39;00m \u001b[38;5;28;01mimport\u001b[39;00m replace_example_docstring\n",
      "File \u001b[1;32md:\\Python Files\\Python\\Image Generation From Text\\Stable Diffusion Demo\\.venv\\Lib\\site-packages\\diffusers\\utils\\constants.py:21\u001b[0m\n\u001b[0;32m     18\u001b[0m \u001b[38;5;28;01mfrom\u001b[39;00m \u001b[38;5;21;01mpackaging\u001b[39;00m \u001b[38;5;28;01mimport\u001b[39;00m version\n\u001b[0;32m     20\u001b[0m \u001b[38;5;28;01mfrom\u001b[39;00m \u001b[38;5;21;01m.\u001b[39;00m\u001b[38;5;21;01m.\u001b[39;00m\u001b[38;5;21;01mdependency_versions_check\u001b[39;00m \u001b[38;5;28;01mimport\u001b[39;00m dep_version_check\n\u001b[1;32m---> 21\u001b[0m \u001b[38;5;28;01mfrom\u001b[39;00m \u001b[38;5;21;01m.\u001b[39;00m\u001b[38;5;21;01mimport_utils\u001b[39;00m \u001b[38;5;28;01mimport\u001b[39;00m ENV_VARS_TRUE_VALUES, is_peft_available, is_transformers_available\n\u001b[0;32m     24\u001b[0m MIN_PEFT_VERSION \u001b[38;5;241m=\u001b[39m \u001b[38;5;124m\"\u001b[39m\u001b[38;5;124m0.6.0\u001b[39m\u001b[38;5;124m\"\u001b[39m\n\u001b[0;32m     25\u001b[0m MIN_TRANSFORMERS_VERSION \u001b[38;5;241m=\u001b[39m \u001b[38;5;124m\"\u001b[39m\u001b[38;5;124m4.34.0\u001b[39m\u001b[38;5;124m\"\u001b[39m\n",
      "\u001b[1;31mImportError\u001b[0m: cannot import name 'is_peft_available' from 'diffusers.utils.import_utils' (d:\\Python Files\\Python\\Image Generation From Text\\Stable Diffusion Demo\\.venv\\Lib\\site-packages\\diffusers\\utils\\import_utils.py)"
     ]
    }
   ],
   "source": [
    "from diffusers import StableDiffusionPipeline"
   ]
  },
  {
   "cell_type": "code",
   "execution_count": 1,
   "metadata": {},
   "outputs": [
    {
     "ename": "NameError",
     "evalue": "name 'StableDiffusionPipeline' is not defined",
     "output_type": "error",
     "traceback": [
      "\u001b[1;31m---------------------------------------------------------------------------\u001b[0m",
      "\u001b[1;31mNameError\u001b[0m                                 Traceback (most recent call last)",
      "Cell \u001b[1;32mIn[1], line 1\u001b[0m\n\u001b[1;32m----> 1\u001b[0m pipe \u001b[38;5;241m=\u001b[39m \u001b[43mStableDiffusionPipeline\u001b[49m\u001b[38;5;241m.\u001b[39mfrom_pretrained(\u001b[38;5;124m\"\u001b[39m\u001b[38;5;124mCompVis/stable-diffusion-v1-4\u001b[39m\u001b[38;5;124m\"\u001b[39m)\n",
      "\u001b[1;31mNameError\u001b[0m: name 'StableDiffusionPipeline' is not defined"
     ]
    }
   ],
   "source": [
    "pipe = StableDiffusionPipeline.from_pretrained(\"CompVis/stable-diffusion-v1-4\")"
   ]
  },
  {
   "cell_type": "code",
   "execution_count": null,
   "metadata": {},
   "outputs": [],
   "source": []
  }
 ],
 "metadata": {
  "kernelspec": {
   "display_name": "Python 3",
   "language": "python",
   "name": "python3"
  },
  "language_info": {
   "codemirror_mode": {
    "name": "ipython",
    "version": 3
   },
   "file_extension": ".py",
   "mimetype": "text/x-python",
   "name": "python",
   "nbconvert_exporter": "python",
   "pygments_lexer": "ipython3",
   "version": "3.12.1"
  }
 },
 "nbformat": 4,
 "nbformat_minor": 2
}
